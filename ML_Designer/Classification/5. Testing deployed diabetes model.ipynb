{
  "cells": [
    {
      "cell_type": "markdown",
      "metadata": {},
      "source": [
        "Code generated my Azure to consume the uploaded data source"
      ]
    },
    {
      "cell_type": "code",
      "execution_count": 30,
      "metadata": {},
      "outputs": [
        {
          "name": "stdout",
          "output_type": "stream",
          "text": [
            "Predictions:\n",
            "Patient: 1882185.0\n",
            "Prediction: 1.0\n",
            "Probability: 0.75\n"
          ]
        }
      ],
      "source": [
        "endpoint = \"http://88a43f13-87f1-4320-ad2f-ebe668d5cf1f.northeurope.azurecontainer.io/score\"\n",
        "key = \"g5MqZOF2ipcjMVwjJmHUzer6y7rVsnCi\"\n",
        "\n",
        "import requests\n",
        "import json\n",
        "\n",
        "payload = {\n",
        "    \"Inputs\": {\n",
        "        \"input1\":\n",
        "        [\n",
        "            {\n",
        "                'Age':43,\n",
        "                'PatientID': 1882185,\n",
        "                'Pregnancies': 9,\n",
        "                'Glucose': 104,\n",
        "                'BloodPressure': 51,\n",
        "                'SkinThickness': 7,\n",
        "                'Insulin': 24,\n",
        "                'BMI': 27.36983156,\n",
        "                'DiabetesPedigreeFunction': 1.3504720469999998,\n",
        "                \n",
        "            },\n",
        "        ],\n",
        "    },\n",
        "}\n",
        "\n",
        "headers = {\"Content-Type\":\"application/json\", \n",
        "\n",
        "        \"Authorization\":\"Bearer \" + key} \n",
        "\n",
        "\n",
        "input_json = json.dumps(payload)\n",
        "\n",
        "#Set the content type and authentication for the request \n",
        "\n",
        "headers = {\"Content-Type\":\"application/json\", \n",
        "\n",
        "        \"Authorization\":\"Bearer \" + key} \n",
        "\n",
        "\n",
        "#Send the request \n",
        "\n",
        "response = requests.post(endpoint, input_json, headers=headers) \n",
        "response.text\n",
        "\n",
        "if response.status_code == 200: \n",
        "\n",
        "    y = response.json()  #json.loads(response.json()) \n",
        "    output = y[\"Results\"][\"WebServiceOutput0\"][0]\n",
        "    print(\"Predictions:\") \n",
        "    print('Patient: {}\\nPrediction: {}\\nProbability: {:.2f}'.format(\n",
        "        output[\"PatientID\"],\n",
        "        output[\"DiabetesPrediction\"],\n",
        "        output[\"Probability\"]\n",
        "    ))\n",
        "else: \n",
        "\n",
        "    print(response) "
      ]
    },
    {
      "cell_type": "code",
      "execution_count": 29,
      "metadata": {
        "gather": {
          "logged": 1725901851488
        },
        "jupyter": {
          "outputs_hidden": false,
          "source_hidden": false
        },
        "nteract": {
          "transient": {
            "deleting": false
          }
        }
      },
      "outputs": [
        {
          "data": {
            "text/plain": [
              "{'Results': {'WebServiceOutput0': [{'PatientID': 1882185.0,\n",
              "    'DiabetesPrediction': 1.0,\n",
              "    'Probability': 0.75}]}}"
            ]
          },
          "execution_count": 29,
          "metadata": {},
          "output_type": "execute_result"
        }
      ],
      "source": [
        "response.json()"
      ]
    },
    {
      "cell_type": "code",
      "execution_count": null,
      "metadata": {},
      "outputs": [],
      "source": []
    }
  ],
  "metadata": {
    "kernel_info": {
      "name": "python310-sdkv2"
    },
    "kernelspec": {
      "display_name": "base",
      "language": "python",
      "name": "python3"
    },
    "language_info": {
      "codemirror_mode": {
        "name": "ipython",
        "version": 3
      },
      "file_extension": ".py",
      "mimetype": "text/x-python",
      "name": "python",
      "nbconvert_exporter": "python",
      "pygments_lexer": "ipython3",
      "version": "3.12.4"
    },
    "microsoft": {
      "host": {
        "AzureML": {
          "notebookHasBeenCompleted": true
        }
      },
      "ms_spell_check": {
        "ms_spell_check_language": "en"
      }
    },
    "nteract": {
      "version": "nteract-front-end@1.0.0"
    }
  },
  "nbformat": 4,
  "nbformat_minor": 2
}
