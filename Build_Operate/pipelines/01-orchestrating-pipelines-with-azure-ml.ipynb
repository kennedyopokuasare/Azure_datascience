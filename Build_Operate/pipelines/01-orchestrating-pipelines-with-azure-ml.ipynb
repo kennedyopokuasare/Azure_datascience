{
 "cells": [
  {
   "cell_type": "markdown",
   "metadata": {},
   "source": [
    "# Run Pipeplines with Azure Machine Learning Python SDK"
   ]
  },
  {
   "cell_type": "markdown",
   "metadata": {},
   "source": [
    "You use the Azure python SDK to orchestrate steps in a Pipeline will run in succession or in Parallel on a compute target"
   ]
  },
  {
   "cell_type": "markdown",
   "metadata": {},
   "source": [
    "# Connect to a Workspace\n",
    "\n",
    "To connect to a workspace, we need identifier parameters - a subscription ID, resource group name, and workspace name. A `config.json` file containing these parameters can be downloaded from the Azure Machine Learning workspace or Azure portal."
   ]
  },
  {
   "cell_type": "code",
   "execution_count": 25,
   "metadata": {},
   "outputs": [],
   "source": [
    "from azureml.core import Workspace\n",
    "\n",
    "ws = Workspace.from_config(path=\"../../config.json\")"
   ]
  },
  {
   "cell_type": "markdown",
   "metadata": {},
   "source": [
    "## Create the Experiment"
   ]
  },
  {
   "cell_type": "code",
   "execution_count": 26,
   "metadata": {},
   "outputs": [],
   "source": [
    "from azureml.core import Experiment\n",
    "import pandas as pd\n",
    "\n",
    "# create the experiment\n",
    "experiment = Experiment(workspace=ws, name=\"diabetes-train-predict\")\n"
   ]
  },
  {
   "cell_type": "markdown",
   "metadata": {},
   "source": [
    "## Exploratory Data Analysis Step\n",
    "\n",
    "Plot correlation, feature-wise distributions and pairwise scatter plots"
   ]
  },
  {
   "cell_type": "code",
   "execution_count": 2,
   "metadata": {},
   "outputs": [
    {
     "name": "stdout",
     "output_type": "stream",
     "text": [
      "Writing src/diabetes-exploratory-plots.py\n"
     ]
    }
   ],
   "source": [
    "%%writefile src/diabetes-exploratory-plots.py\n",
    "# Plot distrubtions step\n",
    "\n",
    "import pandas as pd\n",
    "import seaborn as sns\n",
    "import os\n",
    "import matplotlib.pyplot as plt\n",
    "from itertools import combinations\n",
    "\n",
    "# Create a function that we can re-use\n",
    "def plot_correlations(data):\n",
    "    \"\"\"\n",
    "    This function will make a correlation graph and save it\n",
    "    \"\"\"\n",
    "    correlation = data.corr()\n",
    "    print(\"Correlation between features\\n\", correlation)\n",
    "\n",
    "    fig = plt.figure(figsize=(10, 12))\n",
    "    sns.heatmap(data=correlation, annot=True)\n",
    "    plt.title(\"Correlation betweeen features\")\n",
    "\n",
    "    # Save plot\n",
    "    filename = \"outputs/correlations-between-features.png\"\n",
    "    os.makedirs(\"outputs\", exist_ok=True)\n",
    "    fig.savefig(filename)\n",
    "\n",
    "\n",
    "def plot_distribution(var_data, column_name=None):\n",
    "    \"\"\"\n",
    "    This function will make a distribution (graph) and save it\n",
    "    \"\"\"\n",
    "\n",
    "    # Get statistics\n",
    "    min_val = var_data.min()\n",
    "    max_val = var_data.max()\n",
    "    mean_val = var_data.mean()\n",
    "    med_val = var_data.median()\n",
    "    mod_val = var_data.mode()[0]\n",
    "\n",
    "    print(\n",
    "        \"{} Statistics:\\nMinimum:{:.2f}\\nMean:{:.2f}\\nMedian:{:.2f}\\nMode:{:.2f}\\nMaximum:{:.2f}\\n\".format(\n",
    "            \"\" if column_name is None else column_name,\n",
    "            min_val,\n",
    "            mean_val,\n",
    "            med_val,\n",
    "            mod_val,\n",
    "            max_val,\n",
    "        )\n",
    "    )\n",
    "\n",
    "    # Create a figure for 2 subplots (2 rows, 1 column)\n",
    "    fig, ax = plt.subplots(2, 1, figsize=(10, 4))\n",
    "\n",
    "    # Plot the histogram\n",
    "    ax[0].hist(var_data)\n",
    "    ax[0].set_ylabel(\"Frequency\")\n",
    "\n",
    "    # Add lines for the mean, median, and mode\n",
    "    ax[0].axvline(x=min_val, color=\"gray\", linestyle=\"dashed\", linewidth=2)\n",
    "    ax[0].axvline(x=mean_val, color=\"cyan\", linestyle=\"dashed\", linewidth=2)\n",
    "    ax[0].axvline(x=med_val, color=\"red\", linestyle=\"dashed\", linewidth=2)\n",
    "    ax[0].axvline(x=mod_val, color=\"yellow\", linestyle=\"dashed\", linewidth=2)\n",
    "    ax[0].axvline(x=max_val, color=\"gray\", linestyle=\"dashed\", linewidth=2)\n",
    "    ax[0].legend()\n",
    "\n",
    "    # Plot the boxplot\n",
    "    ax[1].boxplot(var_data, vert=False)\n",
    "    xlabel = \"Value\" if column_name is None else column_name\n",
    "    ax[1].set_xlabel(xlabel)\n",
    "\n",
    "    # Add a title to the Figure\n",
    "    title = (\n",
    "        \"Data Distribution\"\n",
    "        if column_name is None\n",
    "        else \"{} Data Distribution\".format(column_name)\n",
    "    )\n",
    "    fig.suptitle(title)\n",
    "\n",
    "    # Save plot\n",
    "    filename = \"outputs/{}-distribution.png\".format(column_name)\n",
    "    os.makedirs(\"outputs\", exist_ok=True)\n",
    "    fig.savefig(filename)\n",
    "\n",
    "\n",
    "def plot_scatters(x_y_data):\n",
    "    \"\"\"\n",
    "    Plot scatter plots with :y_column: on y-axis and save them. \n",
    "    \"\"\"\n",
    "    \n",
    "    x_column = x_y_data.columns.values[0]\n",
    "    y_column = x_y_data.columns.values[1]\n",
    "\n",
    "    fig = plt.figure(figsize=(10, 12))\n",
    "    sns.regplot(data=x_y_data,x=x_column, y=y_column)\n",
    "    plt.xlabel(x_column)\n",
    "    plt.ylabel(y_column)\n",
    "    plt.title(\"Scatter plot of {} vs {}\".format(x_column,y_column))\n",
    "\n",
    "    # Save plot\n",
    "    filename = \"outputs/Scatter plot of {} vs {}.png\".format(x_column,y_column)\n",
    "    os.makedirs(\"outputs\", exist_ok=True)\n",
    "    fig.savefig(filename)\n",
    "\n",
    "\n",
    "print(\"Loading Data...\")\n",
    "diabetes = pd.read_csv(\"../../data/diabetes.csv\")\n",
    "\n",
    "# plot correlations\n",
    "plot_correlations(data=diabetes)\n",
    "\n",
    "# plot distributions\n",
    "columns = diabetes.columns.values\n",
    "for x in columns:\n",
    "    plot_distribution(var_data=diabetes[x],column_name=x)\n",
    "\n",
    "# plot scatter plots\n",
    "columns = set(columns)\n",
    "exlude_column = set([\"Diabetic\", \"PatientID\"])\n",
    "\n",
    "column_comb=list(combinations(columns-exlude_column,2))\n",
    "column_comb = [list(x) for x in column_comb]\n",
    "\n",
    "for x_y_pairs in column_comb:\n",
    "    plot_scatters(diabetes[x_y_pairs])"
   ]
  },
  {
   "cell_type": "markdown",
   "metadata": {},
   "source": [
    "## Model Training Step\n",
    "\n",
    "To train a model, you'll first create the **diabetes_training.py** script in the **src** folder. "
   ]
  },
  {
   "cell_type": "code",
   "execution_count": 3,
   "metadata": {},
   "outputs": [
    {
     "name": "stdout",
     "output_type": "stream",
     "text": [
      "Writing src/diabetes-training.py\n"
     ]
    }
   ],
   "source": [
    "%%writefile src/diabetes-training.py\n",
    "# import libraries\n",
    "import os\n",
    "import argparse\n",
    "import pandas as pd\n",
    "import numpy as np\n",
    "import pickle\n",
    "from sklearn.model_selection import train_test_split\n",
    "from sklearn.linear_model import LogisticRegression\n",
    "from sklearn.metrics import roc_auc_score\n",
    "from sklearn.metrics import roc_curve\n",
    "\n",
    "# Parse job parameters\n",
    "parser = argparse.ArgumentParser()\n",
    "parser.add_argument('--reg-rate', type=float, dest='reg_rate', default=0.01)\n",
    "parser.add_argument('--test-size', type=float, dest='test_size', default=0.30)\n",
    "parser.add_argument('--data-set', type=str,dest=\"data\")\n",
    "args = parser.parse_args()\n",
    "\n",
    "reg_rate = args.reg_rate\n",
    "test_size = args.test_size\n",
    "print(\"Test data size:\", test_size)\n",
    "print(\"Regularization rate:\", reg_rate)\n",
    "\n",
    "# load the diabetes dataset\n",
    "print(\"Loading Data...\")\n",
    "diabetes = pd.read_csv(args.data, header=0)\n",
    "\n",
    "print(\"num_samples:\", diabetes.shape[0])\n",
    "features = diabetes[['Pregnancies','PlasmaGlucose','DiastolicBloodPressure','TricepsThickness','SerumInsulin','BMI','DiabetesPedigree','Age']]\n",
    "print(\"num_features:\", features.shape[1])\n",
    "print(\"features:\", features.columns.values)\n",
    "\n",
    "# separate features and labels\n",
    "X = features.values\n",
    "y = diabetes['Diabetic'].values\n",
    "\n",
    "# split data into training set and test set\n",
    "X_train, X_test, y_train, y_test = train_test_split(X, y, test_size=test_size, random_state=0)\n",
    "\n",
    "# train a logistic regression model\n",
    "print('Training a logistic regression model with regularization rate of', reg_rate)\n",
    "model = LogisticRegression(C=1/reg_rate, solver=\"liblinear\").fit(X_train, y_train)\n",
    "\n",
    "# calculate accuracy\n",
    "y_hat = model.predict(X_test)\n",
    "acc = np.average(y_hat == y_test)\n",
    "print('Accuracy:', float(acc))"
   ]
  },
  {
   "cell_type": "markdown",
   "metadata": {},
   "source": [
    "## Model Registration Step"
   ]
  },
  {
   "cell_type": "code",
   "execution_count": 4,
   "metadata": {},
   "outputs": [
    {
     "name": "stdout",
     "output_type": "stream",
     "text": [
      "Writing src/diabetes-model-registration.py\n"
     ]
    }
   ],
   "source": [
    "%%writefile src/diabetes-model-registration.py\n",
    "import sklearn\n",
    "from azureml.core import Model\n",
    "import argparse\n",
    "\n",
    "# Set regularization hyperparameter\n",
    "parser = argparse.ArgumentParser()\n",
    "parser.add_argument('--reg-rate', type=float, dest='reg_rate', default=0.01)\n",
    "parser.add_argument('--test-size', type=float, dest='test_size', default=0.30)\n",
    "args = parser.parse_args()\n",
    "\n",
    "filename = 'outputs/model.pkl'\n",
    "Model.register(\n",
    "    workspace = ws,\n",
    "    model_name=\"diabetes-classification-model\",\n",
    "    model_path = filename,\n",
    "    description = \"A LogisticRegression classification model for Diabetes\",\n",
    "    tags = { 'data-format':\"CSV\", \"regularization-rate\":args.reg_rate, \"test-size\":args. test_size},\n",
    "    model_framework = Model.Framework.SCIKITLEARN,\n",
    "    model_framework_version = str(sklearn.__version__)\n",
    ")"
   ]
  },
  {
   "cell_type": "markdown",
   "metadata": {},
   "source": [
    "## Building the Pipeline"
   ]
  },
  {
   "cell_type": "code",
   "execution_count": null,
   "metadata": {},
   "outputs": [],
   "source": [
    "from azureml.pipeline.core import Pipeline\n",
    "from azureml.pipeline.steps import PythonScriptStep"
   ]
  },
  {
   "cell_type": "code",
   "execution_count": 6,
   "metadata": {},
   "outputs": [
    {
     "name": "stdout",
     "output_type": "stream",
     "text": [
      "Python 3.12.4\n"
     ]
    }
   ],
   "source": [
    "%%bash \n",
    "python --version"
   ]
  },
  {
   "cell_type": "code",
   "execution_count": null,
   "metadata": {},
   "outputs": [],
   "source": []
  }
 ],
 "metadata": {
  "kernelspec": {
   "display_name": "automate",
   "language": "python",
   "name": "python3"
  },
  "language_info": {
   "codemirror_mode": {
    "name": "ipython",
    "version": 3
   },
   "file_extension": ".py",
   "mimetype": "text/x-python",
   "name": "python",
   "nbconvert_exporter": "python",
   "pygments_lexer": "ipython3",
   "version": "3.12.4"
  }
 },
 "nbformat": 4,
 "nbformat_minor": 2
}
