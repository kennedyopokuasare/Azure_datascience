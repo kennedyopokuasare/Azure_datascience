{
 "cells": [
  {
   "cell_type": "code",
   "execution_count": 2,
   "metadata": {},
   "outputs": [],
   "source": [
    "# The script MUST contain a function named azureml_main\n",
    "# which is the entry point for this module.\n",
    "\n",
    "# imports up here can be used to\n",
    "import pandas as pd\n",
    "\n",
    "# The entry point function MUST have two input arguments.\n",
    "# If the input port is not connected, the corresponding\n",
    "# dataframe argument will be None.\n",
    "#   Param<dataframe1>: a pandas.DataFrame\n",
    "#   Param<dataframe2>: a pandas.DataFrame\n",
    "def azureml_main(dataframe1 = None, dataframe2 = None):\n",
    "\n",
    "    # Execution logic goes here\n",
    "    print(f'Input pandas.DataFrame #1: {dataframe1}')\n",
    "\n",
    "    scored_results= dataframe1[['PatientID', 'Scored Labels', 'Scored Probabilities']]\n",
    "    scored_results.rename(columns={'Scored Labels':'DiabetesPrediction','Scored Probabilities':'Probability'},inplace=True)\n",
    "    return scored_results"
   ]
  },
  {
   "cell_type": "code",
   "execution_count": 3,
   "metadata": {},
   "outputs": [],
   "source": [
    "df = pd.read_parquet(\"./data.dataset.parquet\")"
   ]
  },
  {
   "cell_type": "code",
   "execution_count": 4,
   "metadata": {},
   "outputs": [
    {
     "data": {
      "text/plain": [
       "Index(['PatientID', 'Pregnancies', 'Glucose', 'BloodPressure', 'SkinThickness',\n",
       "       'Insulin', 'BMI', 'DiabetesPedigreeFunction', 'Age', 'Scored Labels',\n",
       "       'Scored Probabilities'],\n",
       "      dtype='object')"
      ]
     },
     "execution_count": 4,
     "metadata": {},
     "output_type": "execute_result"
    }
   ],
   "source": [
    "df.columns"
   ]
  },
  {
   "cell_type": "code",
   "execution_count": 8,
   "metadata": {},
   "outputs": [
    {
     "name": "stdout",
     "output_type": "stream",
     "text": [
      "Input pandas.DataFrame #1:    PatientID  Pregnancies   Glucose  BloodPressure  SkinThickness   Insulin  \\\n",
      "0    1882185     0.529412  0.522613       0.418033       0.070707  0.028369   \n",
      "1    1662484     0.352941  0.366834       0.500000       0.353535  0.028369   \n",
      "2    1228510     0.235294  0.577889       0.409836       0.292929  0.287234   \n",
      "\n",
      "        BMI  DiabetesPedigreeFunction       Age  Scored Labels  \\\n",
      "0  0.407896                  0.543327  0.366667              1   \n",
      "1  0.279339                  0.425341  0.900000              0   \n",
      "2  0.517022                  0.283160  0.633333              0   \n",
      "\n",
      "   Scored Probabilities  \n",
      "0                 0.750  \n",
      "1                 0.125  \n",
      "2                 0.125  \n"
     ]
    },
    {
     "name": "stderr",
     "output_type": "stream",
     "text": [
      "/var/folders/hc/75f2v8756lz376jb6_px2_ym0000gn/T/ipykernel_9056/3926789396.py:18: SettingWithCopyWarning: \n",
      "A value is trying to be set on a copy of a slice from a DataFrame\n",
      "\n",
      "See the caveats in the documentation: https://pandas.pydata.org/pandas-docs/stable/user_guide/indexing.html#returning-a-view-versus-a-copy\n",
      "  scored_results.rename(columns={'Scored Labels':'DiabetesPrediction','Scored Probabilities':'Probability'},inplace=True)\n"
     ]
    },
    {
     "data": {
      "text/html": [
       "<div>\n",
       "<style scoped>\n",
       "    .dataframe tbody tr th:only-of-type {\n",
       "        vertical-align: middle;\n",
       "    }\n",
       "\n",
       "    .dataframe tbody tr th {\n",
       "        vertical-align: top;\n",
       "    }\n",
       "\n",
       "    .dataframe thead th {\n",
       "        text-align: right;\n",
       "    }\n",
       "</style>\n",
       "<table border=\"1\" class=\"dataframe\">\n",
       "  <thead>\n",
       "    <tr style=\"text-align: right;\">\n",
       "      <th></th>\n",
       "      <th>PatientID</th>\n",
       "      <th>DiabetesPrediction</th>\n",
       "      <th>Probability</th>\n",
       "    </tr>\n",
       "  </thead>\n",
       "  <tbody>\n",
       "    <tr>\n",
       "      <th>0</th>\n",
       "      <td>1882185</td>\n",
       "      <td>1</td>\n",
       "      <td>0.750</td>\n",
       "    </tr>\n",
       "    <tr>\n",
       "      <th>1</th>\n",
       "      <td>1662484</td>\n",
       "      <td>0</td>\n",
       "      <td>0.125</td>\n",
       "    </tr>\n",
       "    <tr>\n",
       "      <th>2</th>\n",
       "      <td>1228510</td>\n",
       "      <td>0</td>\n",
       "      <td>0.125</td>\n",
       "    </tr>\n",
       "  </tbody>\n",
       "</table>\n",
       "</div>"
      ],
      "text/plain": [
       "   PatientID  DiabetesPrediction  Probability\n",
       "0    1882185                   1        0.750\n",
       "1    1662484                   0        0.125\n",
       "2    1228510                   0        0.125"
      ]
     },
     "execution_count": 8,
     "metadata": {},
     "output_type": "execute_result"
    }
   ],
   "source": [
    "azureml_main(dataframe1=df)"
   ]
  },
  {
   "cell_type": "code",
   "execution_count": null,
   "metadata": {},
   "outputs": [],
   "source": []
  }
 ],
 "metadata": {
  "kernelspec": {
   "display_name": "base",
   "language": "python",
   "name": "python3"
  },
  "language_info": {
   "codemirror_mode": {
    "name": "ipython",
    "version": 3
   },
   "file_extension": ".py",
   "mimetype": "text/x-python",
   "name": "python",
   "nbconvert_exporter": "python",
   "pygments_lexer": "ipython3",
   "version": "3.12.4"
  }
 },
 "nbformat": 4,
 "nbformat_minor": 2
}
