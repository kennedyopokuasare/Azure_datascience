{
  "cells": [
    {
      "cell_type": "code",
      "execution_count": 3,
      "metadata": {
        "gather": {
          "logged": 1725895169722
        },
        "jupyter": {
          "outputs_hidden": false,
          "source_hidden": false
        },
        "nteract": {
          "transient": {
            "deleting": false
          }
        }
      },
      "outputs": [],
      "source": [
        "endpoint = \"http://8d7d5ec5-f7a9-48f1-9fbf-3530f5b818f9.northeurope.azurecontainer.io/score\"\n",
        "key = \"CCTZbcH8of4IEcsObb66Q8fstriwyxDo\"\n"
      ]
    },
    {
      "cell_type": "markdown",
      "metadata": {},
      "source": [
        "Code generated my Azure to consume the uploaded data source"
      ]
    },
    {
      "cell_type": "code",
      "execution_count": 5,
      "metadata": {},
      "outputs": [
        {
          "data": {
            "text/plain": [
              "{'Inputs': {'data': [{'day': 1,\n",
              "    'mnth': 1,\n",
              "    'year': 2022,\n",
              "    'season': 1,\n",
              "    'holiday': 0,\n",
              "    'weekday': 6,\n",
              "    'workingday': 0,\n",
              "    'weathersit': 2,\n",
              "    'temp': 0.344167,\n",
              "    'atemp': 0.363625,\n",
              "    'hum': 0.805833,\n",
              "    'windspeed': 0.160446},\n",
              "   {'day': 2,\n",
              "    'mnth': 1,\n",
              "    'year': 2022,\n",
              "    'season': 1,\n",
              "    'holiday': 0,\n",
              "    'weekday': 0,\n",
              "    'workingday': 0,\n",
              "    'weathersit': 2,\n",
              "    'temp': 0.363478,\n",
              "    'atemp': 0.353739,\n",
              "    'hum': 0.696087,\n",
              "    'windspeed': 0.248539},\n",
              "   {'day': 3,\n",
              "    'mnth': 1,\n",
              "    'year': 2022,\n",
              "    'season': 1,\n",
              "    'holiday': 0,\n",
              "    'weekday': 1,\n",
              "    'workingday': 1,\n",
              "    'weathersit': 1,\n",
              "    'temp': 0.196364,\n",
              "    'atemp': 0.189405,\n",
              "    'hum': 0.437273,\n",
              "    'windspeed': 0.248309},\n",
              "   {'day': 4,\n",
              "    'mnth': 1,\n",
              "    'year': 2022,\n",
              "    'season': 1,\n",
              "    'holiday': 0,\n",
              "    'weekday': 2,\n",
              "    'workingday': 1,\n",
              "    'weathersit': 1,\n",
              "    'temp': 0.2,\n",
              "    'atemp': 0.212122,\n",
              "    'hum': 0.590435,\n",
              "    'windspeed': 0.160296},\n",
              "   {'day': 5,\n",
              "    'mnth': 1,\n",
              "    'year': 2022,\n",
              "    'season': 1,\n",
              "    'holiday': 0,\n",
              "    'weekday': 3,\n",
              "    'workingday': 1,\n",
              "    'weathersit': 1,\n",
              "    'temp': 0.226957,\n",
              "    'atemp': 0.22927,\n",
              "    'hum': 0.436957,\n",
              "    'windspeed': 0.1869}]},\n",
              " 'GlobalParameters': 0.0}"
            ]
          },
          "execution_count": 5,
          "metadata": {},
          "output_type": "execute_result"
        }
      ],
      "source": [
        "payload"
      ]
    },
    {
      "cell_type": "code",
      "execution_count": null,
      "metadata": {
        "gather": {
          "logged": 1725901910083
        },
        "jupyter": {
          "outputs_hidden": false,
          "source_hidden": false
        },
        "nteract": {
          "transient": {
            "deleting": false
          }
        }
      },
      "outputs": [],
      "source": [
        "#endpoint = 'YOUR_ENDPOINT' #Replace with your endpoint \n",
        "\n",
        "#key = 'YOUR_KEY' #Replace with your key \n",
        "\n",
        " \n",
        "\n",
        "import json \n",
        "\n",
        "import requests \n",
        "\n",
        " \n",
        "\n",
        "#An array of features based on five-day weather forecast \n",
        "\n",
        "x = [\n",
        "        [1,1,2022,1,0,6,0,2,0.344167,0.363625,0.805833,0.160446], \n",
        "\n",
        "        [2,1,2022,1,0,0,0,2,0.363478,0.353739,0.696087,0.248539], \n",
        "\n",
        "        [3,1,2022,1,0,1,1,1,0.196364,0.189405,0.437273,0.248309], \n",
        "\n",
        "        [4,1,2022,1,0,2,1,1,0.2,0.212122,0.590435,0.160296], \n",
        "\n",
        "        [5,1,2022,1,0,3,1,1,0.226957,0.22927,0.436957,0.1869]\n",
        "] \n",
        "\n",
        "#columnNames = ['day', 'mnth', 'year', 'season', 'holiday', 'weekday', 'workingday', 'weathersit', 'temp', 'atemp', 'hum', 'windspeed']\n",
        "\n",
        "#Convert the array to JSON format \n",
        "\n",
        "columns = [\"day\",\"mnth\", \"year\", \"season\", \"holiday\", \"weekday\", \"workingday\", \"weathersit\", \"temp\", \"atemp\", \"hum\", \"windspeed\"]\n",
        "\n",
        "data = [{columns[i]: v for i, v in enumerate(x_i)} for x_i in x]\n",
        "\n",
        "payload = {\n",
        "  \"Inputs\": {\n",
        "    \"data\": data\n",
        "  },\n",
        "  \"GlobalParameters\": 0.0 # not sure if this value matters\n",
        "}\n",
        "\n",
        "input_json = json.dumps(payload)\n",
        "\n",
        "#Set the content type and authentication for the request \n",
        "\n",
        "headers = {\"Content-Type\":\"application/json\", \n",
        "\n",
        "        \"Authorization\":\"Bearer \" + key} \n",
        "\n",
        "\n",
        "#Send the request \n",
        "\n",
        "response = requests.post(endpoint, input_json, headers=headers) \n",
        "response.text\n",
        "\n",
        "#If we got a valid response, display the predictions \n",
        "\n",
        "if response.status_code == 200: \n",
        "\n",
        "    y = response.json()  #json.loads(response.json()) \n",
        "\n",
        "    print(\"Predictions:\") \n",
        "\n",
        "    for i in range(len(x)): \n",
        "\n",
        "        print (\" Day: {}. Predicted rentals: {}\".format(i+1, max(0, round(y[\"Results\"][i])))) \n",
        "\n",
        "else: \n",
        "\n",
        "    print(response) "
      ]
    },
    {
      "cell_type": "code",
      "execution_count": 70,
      "metadata": {
        "gather": {
          "logged": 1725899038718
        },
        "jupyter": {
          "outputs_hidden": false,
          "source_hidden": false
        },
        "nteract": {
          "transient": {
            "deleting": false
          }
        }
      },
      "outputs": [
        {
          "data": {
            "text/plain": [
              "{'Results': [582.6892700195312,\n",
              "  213.2162628173828,\n",
              "  126.17864990234375,\n",
              "  149.9313507080078,\n",
              "  108.78009033203125]}"
            ]
          },
          "execution_count": 70,
          "metadata": {},
          "output_type": "execute_result"
        }
      ],
      "source": [
        "response.json()"
      ]
    },
    {
      "cell_type": "code",
      "execution_count": 69,
      "metadata": {
        "gather": {
          "logged": 1725898991558
        },
        "jupyter": {
          "outputs_hidden": false,
          "source_hidden": false
        },
        "nteract": {
          "transient": {
            "deleting": false
          }
        }
      },
      "outputs": [
        {
          "data": {
            "text/plain": [
              "'{\"Results\": [582.6892700195312, 213.2162628173828, 126.17864990234375, 149.9313507080078, 108.78009033203125]}'"
            ]
          },
          "execution_count": 69,
          "metadata": {},
          "output_type": "execute_result"
        }
      ],
      "source": [
        "response.text"
      ]
    },
    {
      "cell_type": "code",
      "execution_count": null,
      "metadata": {
        "gather": {
          "logged": 1725901851488
        },
        "jupyter": {
          "outputs_hidden": false,
          "source_hidden": false
        },
        "nteract": {
          "transient": {
            "deleting": false
          }
        }
      },
      "outputs": [],
      "source": [
        "json.load(response.text)"
      ]
    }
  ],
  "metadata": {
    "kernel_info": {
      "name": "python310-sdkv2"
    },
    "kernelspec": {
      "display_name": "base",
      "language": "python",
      "name": "python3"
    },
    "language_info": {
      "codemirror_mode": {
        "name": "ipython",
        "version": 3
      },
      "file_extension": ".py",
      "mimetype": "text/x-python",
      "name": "python",
      "nbconvert_exporter": "python",
      "pygments_lexer": "ipython3",
      "version": "3.12.4"
    },
    "microsoft": {
      "host": {
        "AzureML": {
          "notebookHasBeenCompleted": true
        }
      },
      "ms_spell_check": {
        "ms_spell_check_language": "en"
      }
    },
    "nteract": {
      "version": "nteract-front-end@1.0.0"
    }
  },
  "nbformat": 4,
  "nbformat_minor": 2
}
